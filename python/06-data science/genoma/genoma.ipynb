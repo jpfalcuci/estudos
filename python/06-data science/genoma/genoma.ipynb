{
 "cells": [
  {
   "cell_type": "code",
   "execution_count": 1,
   "metadata": {},
   "outputs": [],
   "source": [
    "# visualização de dados com html\n",
    "# comparando genomas\n",
    "import matplotlib.pyplot as plt\n",
    "from collections import Counter\n",
    "\n",
    "\n",
    "class Especie():\n",
    "\n",
    "    def __init__(self, especie):\n",
    "        self.__especie = especie\n",
    "        self.__rna = self.__interpreta_rna()\n",
    "\n",
    "    def __str__(self):\n",
    "        return f'RNA: >>humano<<\\n{self.__rna}\\n'\n",
    "\n",
    "    def __interpreta_rna(self):\n",
    "        entrada = open(f'{self.__especie}.fasta').read()    # lê o arquivo .fasta, na mesma pasta\n",
    "        entrada = entrada.replace('\\n','')                  # remove o caractere de pular linha\n",
    "        contador = {}\n",
    "        for i in ['A', 'T', 'C', 'G']:\n",
    "            for j in ['A', 'T', 'C', 'G']:\n",
    "                contador[i+j] = 0   # cria um dicionário com as 16 combinações possíveis como chaves, todas com valores 0\n",
    "        for k in range(len(entrada)-1):\n",
    "            contador[entrada[k]+entrada[k+1]] += 1\n",
    "        return contador\n",
    "\n",
    "    def analisa_genoma(self):\n",
    "        print(f'Sequência de RNA analisada >>{self.__especie}<<\\nOs 10 pares de nucleotídios que mais ocorrem são:')\n",
    "        rna = Counter(self.__rna)\n",
    "        total_genes = sum(rna.values())\n",
    "        proporcoes = Counter(dict([(i, j / total_genes) for i, j in self.__rna.items()]))   # criando um Counter a partir de um dict a partir de uma lista \n",
    "        mais_comuns = proporcoes.most_common(10)\n",
    "        for caractere, proporcao in mais_comuns:\n",
    "            print(f' _ {caractere} => {proporcao * 100:05.2f}%')\n",
    "        print('\\n')\n",
    "\n",
    "    def cria_grafico_html(self):\n",
    "        saida = open(f'{self.__especie}.html', 'w')\n",
    "        i = 1\n",
    "        for k in self.__rna:\n",
    "            transparencia = str(self.__rna[k] / max(self.__rna.values()))\n",
    "            saida.write(f'<div style=\"width:100px; border:1px solid #111; color:#fff; height:100px; float:left; background-color:rgba(0, 0, 0, {transparencia})\">{k}</div>')\n",
    "            if i%4 == 0:\n",
    "                saida.write('<div style=\"clear:both\"></div>')\n",
    "            i+=1\n",
    "        saida.close()\n",
    "        print(f'Arquivo gráfico \"{self.__especie}.html\" criado com sucesso!')\n",
    "\n",
    "    def compara_genoma(self, other):\n",
    "        plt.figure(figsize = (12, 6))\n",
    "        plt.title('Pares de nucleotídeos')\n",
    "        plt.xlabel('Pares')\n",
    "        plt.ylabel('Quantidades')\n",
    "        plt.bar(self.__rna.keys(), self.__rna.values(), label=f'{self.__especie}', width=-0.35, align='edge', color='darkorange', edgecolor='k')\n",
    "        plt.bar(other.__rna.keys(), other.__rna.values(), label=f'{other.__especie}', width=0.35, align='edge', color='lightgreen', edgecolor='k')\n",
    "        plt.legend()\n",
    "        plt.show()\n",
    "\n",
    "humano      = Especie('humano')\n",
    "bacteria    = Especie('bacteria')"
   ]
  },
  {
   "cell_type": "code",
   "execution_count": 2,
   "metadata": {},
   "outputs": [
    {
     "name": "stdout",
     "output_type": "stream",
     "text": [
      "RNA: >>humano<<\n",
      "{'AA': 116, 'AT': 95, 'AC': 97, 'AG': 113, 'TA': 85, 'TT': 113, 'TC': 109, 'TG': 111, 'CA': 87, 'CT': 105, 'CC': 184, 'CG': 170, 'GA': 134, 'GT': 105, 'GC': 155, 'GG': 184}\n",
      "\n",
      "Sequência de RNA analisada >>humano<<\n",
      "Os 10 pares de nucleotídios que mais ocorrem são:\n",
      " _ CC => 09.37%\n",
      " _ GG => 09.37%\n",
      " _ CG => 08.66%\n",
      " _ GC => 07.90%\n",
      " _ GA => 06.83%\n",
      " _ AA => 05.91%\n",
      " _ AG => 05.76%\n",
      " _ TT => 05.76%\n",
      " _ TG => 05.65%\n",
      " _ TC => 05.55%\n",
      "\n",
      "\n",
      "Arquivo gráfico \"humano.html\" criado com sucesso!\n"
     ]
    }
   ],
   "source": [
    "print(humano)\n",
    "humano.analisa_genoma()\n",
    "humano.cria_grafico_html()"
   ]
  },
  {
   "cell_type": "code",
   "execution_count": 3,
   "metadata": {},
   "outputs": [
    {
     "name": "stdout",
     "output_type": "stream",
     "text": [
      "RNA: >>humano<<\n",
      "{'AA': 105, 'AT': 64, 'AC': 86, 'AG': 111, 'TA': 64, 'TT': 57, 'TC': 60, 'TG': 108, 'CA': 83, 'CT': 75, 'CC': 74, 'CG': 97, 'GA': 113, 'GT': 93, 'GC': 109, 'GG': 147}\n",
      "\n",
      "Sequência de RNA analisada >>bacteria<<\n",
      "Os 10 pares de nucleotídios que mais ocorrem são:\n",
      " _ GG => 10.17%\n",
      " _ GA => 07.81%\n",
      " _ AG => 07.68%\n",
      " _ GC => 07.54%\n",
      " _ TG => 07.47%\n",
      " _ AA => 07.26%\n",
      " _ CG => 06.71%\n",
      " _ GT => 06.43%\n",
      " _ AC => 05.95%\n",
      " _ CA => 05.74%\n",
      "\n",
      "\n",
      "Arquivo gráfico \"bacteria.html\" criado com sucesso!\n"
     ]
    }
   ],
   "source": [
    "print(bacteria)\n",
    "bacteria.analisa_genoma()\n",
    "bacteria.cria_grafico_html()"
   ]
  },
  {
   "cell_type": "code",
   "execution_count": 4,
   "metadata": {},
   "outputs": [
    {
     "data": {
      "image/png": "[encoded data removed]",
      "text/plain": [
       "<Figure size 864x432 with 1 Axes>"
      ]
     },
     "metadata": {
      "needs_background": "light"
     },
     "output_type": "display_data"
    }
   ],
   "source": [
    "humano.compara_genoma(bacteria)"
   ]
  },
  {
   "cell_type": "code",
   "execution_count": null,
   "metadata": {},
   "outputs": [],
   "source": []
  }
 ],
 "metadata": {
  "kernelspec": {
   "display_name": "Python 3.10.4 64-bit",
   "language": "python",
   "name": "python3"
  },
  "language_info": {
   "codemirror_mode": {
    "name": "ipython",
    "version": 3
   },
   "file_extension": ".py",
   "mimetype": "text/x-python",
   "name": "python",
   "nbconvert_exporter": "python",
   "pygments_lexer": "ipython3",
   "version": "3.10.4"
  },
  "orig_nbformat": 4,
  "vscode": {
   "interpreter": {
    "hash": "390b26408c1a9fab7aa60534330aa585819becb932e463410786038f7884dffb"
   }
  }
 },
 "nbformat": 4,
 "nbformat_minor": 2
}
